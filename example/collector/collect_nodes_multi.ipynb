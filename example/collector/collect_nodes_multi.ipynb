{
 "cells": [
  {
   "cell_type": "code",
   "execution_count": 1,
   "metadata": {},
   "outputs": [],
   "source": [
    "from crimson.ast_dev_tool.collector import collect_nodes_multi\n",
    "import crimson.ast_dev_tool.collector as collector\n",
    "import ast"
   ]
  },
  {
   "cell_type": "code",
   "execution_count": 2,
   "metadata": {},
   "outputs": [],
   "source": [
    "nodes = collect_nodes_multi(collector, [ast.FunctionDef, ast.ClassDef])"
   ]
  },
  {
   "cell_type": "code",
   "execution_count": 3,
   "metadata": {},
   "outputs": [
    {
     "data": {
      "text/plain": [
       "[<ast.ClassDef at 0x7f7ab081b370>,\n",
       " <ast.FunctionDef at 0x7f7ab081b250>,\n",
       " <ast.FunctionDef at 0x7f7ab081aef0>,\n",
       " <ast.ClassDef at 0x7f7ab081aaa0>,\n",
       " <ast.FunctionDef at 0x7f7ab081aa10>,\n",
       " <ast.FunctionDef at 0x7f7ab081a740>,\n",
       " <ast.FunctionDef at 0x7f7ab081a1d0>,\n",
       " <ast.FunctionDef at 0x7f7ab0819000>]"
      ]
     },
     "execution_count": 3,
     "metadata": {},
     "output_type": "execute_result"
    }
   ],
   "source": [
    "nodes"
   ]
  }
 ],
 "metadata": {
  "kernelspec": {
   "display_name": "ast-dev-tool",
   "language": "python",
   "name": "python3"
  },
  "language_info": {
   "codemirror_mode": {
    "name": "ipython",
    "version": 3
   },
   "file_extension": ".py",
   "mimetype": "text/x-python",
   "name": "python",
   "nbconvert_exporter": "python",
   "pygments_lexer": "ipython3",
   "version": "3.11.9"
  }
 },
 "nbformat": 4,
 "nbformat_minor": 2
}
