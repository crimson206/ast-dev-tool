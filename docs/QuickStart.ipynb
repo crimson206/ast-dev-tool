{
 "cells": [
  {
   "cell_type": "code",
   "execution_count": 6,
   "metadata": {},
   "outputs": [],
   "source": [
    "from crimson.ast_dev_tool import collect_nodes, print_node\n",
    "import ast\n"
   ]
  },
  {
   "cell_type": "code",
   "execution_count": 7,
   "metadata": {},
   "outputs": [],
   "source": [
    "\n",
    "code = \"\"\"\n",
    "from typing import List, Type, Literal, Union, overload, TypeVar, Generic\n",
    "import ast\n",
    "from ast import unparse\n",
    "from .getter import get_node, _SourceObjectTypes, _SourceObjectType\n",
    "\n",
    "T = TypeVar('T', bound=ast.AST)\n",
    "\n",
    "class NodeCollector(ast.NodeVisitor, Generic[T]):\n",
    "    def __init__(self, node_type: Type[T]):\n",
    "        self.node_type = node_type\n",
    "        self.nodes: List[T] = []\n",
    "\n",
    "    def visit(self, node: ast.AST):\n",
    "        if isinstance(node, self.node_type):\n",
    "            self.nodes.append(node)\n",
    "        self.generic_visit(node)\n",
    "\n",
    "@overload\n",
    "def collect_nodes(\n",
    "    node: ast.AST,\n",
    "    node_type: Type[T],\n",
    "    return_type: Literal[\"nodes\"] = \"nodes\",\n",
    ") -> List[T]:\n",
    "    ...\n",
    "\n",
    "@overload\n",
    "def collect_nodes(\n",
    "    node: ast.AST,\n",
    "    node_type: Type[T],\n",
    "    return_type: Literal[\"sources\"],\n",
    ") -> List[str]:\n",
    "    ...\n",
    "\n",
    "@overload\n",
    "def collect_nodes(\n",
    "    source: str,\n",
    "    node_type: Type[T],\n",
    "    return_type: Literal[\"nodes\"] = \"nodes\",\n",
    ") -> List[T]:\n",
    "    ...\n",
    "\n",
    "@overload\n",
    "def collect_nodes(\n",
    "    source: str,\n",
    "    node_type: Type[T],\n",
    "    return_type: Literal[\"sources\"],\n",
    ") -> List[str]:\n",
    "    ...\n",
    "\n",
    "@overload\n",
    "def collect_nodes(\n",
    "    object: _SourceObjectType,\n",
    "    node_type: Type[T],\n",
    "    return_type: Literal[\"nodes\"] = \"nodes\",\n",
    ") -> List[T]:\n",
    "    ...\n",
    "\n",
    "@overload\n",
    "def collect_nodes(\n",
    "    object: _SourceObjectType,\n",
    "    node_type: Type[T],\n",
    "    return_type: Literal[\"sources\"],\n",
    ") -> List[str]:\n",
    "    ...\n",
    "\n",
    "def collect_nodes(\n",
    "    input: Union[str, ast.AST, _SourceObjectType],\n",
    "    node_type: Type[T],\n",
    "    return_type: Literal[\"nodes\", \"sources\"] = \"nodes\",\n",
    ") -> Union[List[T], List[str]]:\n",
    "\n",
    "    if any([type(input) is str, type(input) in _SourceObjectTypes]):\n",
    "        node = get_node(input)\n",
    "    elif isinstance(input, ast.AST):\n",
    "        node = input\n",
    "    else:\n",
    "        raise Exception(\"Input is not valid\")\n",
    "\n",
    "    collector = NodeCollector(node_type)\n",
    "    collector.visit(node)\n",
    "    nodes = collector.nodes\n",
    "\n",
    "    if return_type == \"nodes\":\n",
    "        return nodes\n",
    "    elif return_type == \"sources\":\n",
    "        return [unparse(node) for node in nodes]\n",
    "\n",
    "    raise ValueError(\"Invalid return_type\")\n",
    "\n",
    "\"\"\""
   ]
  },
  {
   "cell_type": "code",
   "execution_count": 8,
   "metadata": {},
   "outputs": [],
   "source": [
    "nodes = collect_nodes(code, ast.Import)"
   ]
  },
  {
   "cell_type": "code",
   "execution_count": 9,
   "metadata": {},
   "outputs": [
    {
     "name": "stdout",
     "output_type": "stream",
     "text": [
      "Import(\n",
      "  names=[\n",
      "    alias(name='ast')])\n"
     ]
    }
   ],
   "source": [
    "print_node(nodes[0])"
   ]
  },
  {
   "cell_type": "code",
   "execution_count": 10,
   "metadata": {},
   "outputs": [
    {
     "data": {
      "text/plain": [
       "[<ast.alias at 0x7f4e70ed0220>]"
      ]
     },
     "execution_count": 10,
     "metadata": {},
     "output_type": "execute_result"
    }
   ],
   "source": [
    "nodes[0].names"
   ]
  }
 ],
 "metadata": {
  "kernelspec": {
   "display_name": "ast-dev-tool",
   "language": "python",
   "name": "python3"
  },
  "language_info": {
   "codemirror_mode": {
    "name": "ipython",
    "version": 3
   },
   "file_extension": ".py",
   "mimetype": "text/x-python",
   "name": "python",
   "nbconvert_exporter": "python",
   "pygments_lexer": "ipython3",
   "version": "3.11.9"
  }
 },
 "nbformat": 4,
 "nbformat_minor": 2
}
